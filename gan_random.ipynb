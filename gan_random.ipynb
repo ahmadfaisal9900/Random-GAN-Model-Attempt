{
 "cells": [
  {
   "cell_type": "code",
   "execution_count": 2,
   "metadata": {},
   "outputs": [],
   "source": [
    "from tensorflow.keras import layers, models\n",
    "\n",
    "latent_dim = 100\n",
    "\n",
    "# Generator model\n",
    "generator = models.Sequential()\n",
    "generator.add(layers.Dense(256, input_dim=latent_dim, activation='relu'))\n",
    "generator.add(layers.Dense(512, activation='relu'))\n",
    "generator.add(layers.Dense(784, activation='sigmoid'))  # Assuming you're generating 28x28 images\n",
    "\n",
    "# Discriminator model\n",
    "discriminator = models.Sequential()\n",
    "discriminator.add(layers.Dense(512, input_dim=784, activation='relu'))\n",
    "discriminator.add(layers.Dense(256, activation='relu'))\n",
    "discriminator.add(layers.Dense(1, activation='sigmoid'))\n",
    "\n",
    "# GAN model\n",
    "discriminator.trainable = False  # Freeze the discriminator during combined model training\n",
    "gan_input = layers.Input(shape=(latent_dim,))\n",
    "fake_image = generator(gan_input)\n",
    "gan_output = discriminator(fake_image)\n",
    "\n",
    "gan = models.Model(gan_input, gan_output)\n"
   ]
  },
  {
   "cell_type": "code",
   "execution_count": null,
   "metadata": {},
   "outputs": [],
   "source": []
  }
 ],
 "metadata": {
  "kernelspec": {
   "display_name": "Python 3",
   "language": "python",
   "name": "python3"
  },
  "language_info": {
   "codemirror_mode": {
    "name": "ipython",
    "version": 3
   },
   "file_extension": ".py",
   "mimetype": "text/x-python",
   "name": "python",
   "nbconvert_exporter": "python",
   "pygments_lexer": "ipython3",
   "version": "3.9.9"
  }
 },
 "nbformat": 4,
 "nbformat_minor": 2
}
